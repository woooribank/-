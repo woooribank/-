{
  "nbformat": 4,
  "nbformat_minor": 0,
  "metadata": {
    "colab": {
      "provenance": [],
      "authorship_tag": "ABX9TyMP9taZANG7KIarQH7Wji0c",
      "include_colab_link": true
    },
    "kernelspec": {
      "name": "python3",
      "display_name": "Python 3"
    },
    "language_info": {
      "name": "python"
    }
  },
  "cells": [
    {
      "cell_type": "markdown",
      "metadata": {
        "id": "view-in-github",
        "colab_type": "text"
      },
      "source": [
        "<a href=\"https://colab.research.google.com/github/woooribank/-/blob/main/bus.ipynb\" target=\"_parent\"><img src=\"https://colab.research.google.com/assets/colab-badge.svg\" alt=\"Open In Colab\"/></a>"
      ]
    },
    {
      "cell_type": "code",
      "execution_count": 19,
      "metadata": {
        "colab": {
          "base_uri": "https://localhost:8080/"
        },
        "id": "ZRvwNht9PCtt",
        "outputId": "c03eca9a-f427-4ead-93e8-ab48d06ab448"
      },
      "outputs": [
        {
          "output_type": "stream",
          "name": "stdout",
          "text": [
            "<?xml version=\"1.0\" encoding=\"UTF-8\" standalone=\"yes\"?><response><comMsgHeader/><msgHeader><queryTime>2024-03-15 09:56:30.072</queryTime><resultCode>0</resultCode><resultMessage>정상적으로 처리되었습니다.</resultMessage></msgHeader><msgBody><busLocationList><endBus>0</endBus><lowPlate>0</lowPlate><plateNo>경기77바2927</plateNo><plateType>3</plateType><remainSeatCnt>38</remainSeatCnt><routeId>234001245</routeId><stationId>277104181</stationId><stationSeq>36</stationSeq></busLocationList><busLocationList><endBus>0</endBus><lowPlate>0</lowPlate><plateNo>경기77바2916</plateNo><plateType>3</plateType><remainSeatCnt>40</remainSeatCnt><routeId>234001245</routeId><stationId>277103385</stationId><stationSeq>46</stationSeq></busLocationList><busLocationList><endBus>0</endBus><lowPlate>0</lowPlate><plateNo>경기77바2900</plateNo><plateType>4</plateType><remainSeatCnt>28</remainSeatCnt><routeId>234001245</routeId><stationId>277104180</stationId><stationSeq>23</stationSeq></busLocationList><busLocationList><endBus>0</endBus><lowPlate>0</lowPlate><plateNo>경기77바2902</plateNo><plateType>3</plateType><remainSeatCnt>41</remainSeatCnt><routeId>234001245</routeId><stationId>277103678</stationId><stationSeq>44</stationSeq></busLocationList><busLocationList><endBus>0</endBus><lowPlate>0</lowPlate><plateNo>경기77바2407</plateNo><plateType>3</plateType><remainSeatCnt>38</remainSeatCnt><routeId>234001245</routeId><stationId>277103362</stationId><stationSeq>49</stationSeq></busLocationList><busLocationList><endBus>0</endBus><lowPlate>0</lowPlate><plateNo>경기77바2936</plateNo><plateType>3</plateType><remainSeatCnt>34</remainSeatCnt><routeId>234001245</routeId><stationId>277104283</stationId><stationSeq>28</stationSeq></busLocationList><busLocationList><endBus>0</endBus><lowPlate>0</lowPlate><plateNo>경기77바2201</plateNo><plateType>4</plateType><remainSeatCnt>41</remainSeatCnt><routeId>234001245</routeId><stationId>277103361</stationId><stationSeq>11</stationSeq></busLocationList><busLocationList><endBus>0</endBus><lowPlate>0</lowPlate><plateNo>경기77바2915</plateNo><plateType>3</plateType><remainSeatCnt>38</remainSeatCnt><routeId>234001245</routeId><stationId>233001219</stationId><stationSeq>5</stationSeq></busLocationList><busLocationList><endBus>0</endBus><lowPlate>0</lowPlate><plateNo>경기77바3604</plateNo><plateType>4</plateType><remainSeatCnt>69</remainSeatCnt><routeId>234001245</routeId><stationId>233001452</stationId><stationSeq>56</stationSeq></busLocationList><busLocationList><endBus>0</endBus><lowPlate>0</lowPlate><plateNo>경기77바2940</plateNo><plateType>3</plateType><remainSeatCnt>2</remainSeatCnt><routeId>234001245</routeId><stationId>277103388</stationId><stationSeq>18</stationSeq></busLocationList></msgBody></response>\n"
          ]
        }
      ],
      "source": [
        "import requests\n",
        "url='http://openapi.gbis.go.kr/ws/rest/buslocationservice?serviceKey=1234567890&routeId=234001245'\n",
        "r = requests.get(url)\n",
        "print(r.text)"
      ]
    },
    {
      "cell_type": "code",
      "source": [
        "from bs4 import BeautifulSoup\n",
        "\n",
        "soup = BeautifulSoup(r.text, features=\"xml\")"
      ],
      "metadata": {
        "id": "zmAe7VKRl7-9"
      },
      "execution_count": 20,
      "outputs": []
    },
    {
      "cell_type": "code",
      "source": [
        "soup.find_all('stationId')"
      ],
      "metadata": {
        "colab": {
          "base_uri": "https://localhost:8080/"
        },
        "id": "RxsUgLgXmLAU",
        "outputId": "738ecf7a-97cb-4ce0-ce2f-807eb7825911"
      },
      "execution_count": 21,
      "outputs": [
        {
          "output_type": "execute_result",
          "data": {
            "text/plain": [
              "[<stationId>277104181</stationId>,\n",
              " <stationId>277103385</stationId>,\n",
              " <stationId>277104180</stationId>,\n",
              " <stationId>277103678</stationId>,\n",
              " <stationId>277103362</stationId>,\n",
              " <stationId>277104283</stationId>,\n",
              " <stationId>277103361</stationId>,\n",
              " <stationId>233001219</stationId>,\n",
              " <stationId>233001452</stationId>,\n",
              " <stationId>277103388</stationId>]"
            ]
          },
          "metadata": {},
          "execution_count": 21
        }
      ]
    },
    {
      "cell_type": "code",
      "source": [
        "print('학번=', 2384024, '이름=', '정은혜')"
      ],
      "metadata": {
        "colab": {
          "base_uri": "https://localhost:8080/"
        },
        "id": "oYTGoErimRis",
        "outputId": "c181316e-c35a-4d3d-cb72-1789c55c4870"
      },
      "execution_count": 22,
      "outputs": [
        {
          "output_type": "stream",
          "name": "stdout",
          "text": [
            "학번= 2384024 이름= 정은혜\n"
          ]
        }
      ]
    }
  ]
}