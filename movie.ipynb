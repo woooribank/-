{
  "nbformat": 4,
  "nbformat_minor": 0,
  "metadata": {
    "colab": {
      "provenance": [],
      "authorship_tag": "ABX9TyPlhGnN8FOEGGwW/DPig/fT",
      "include_colab_link": true
    },
    "kernelspec": {
      "name": "python3",
      "display_name": "Python 3"
    },
    "language_info": {
      "name": "python"
    }
  },
  "cells": [
    {
      "cell_type": "markdown",
      "metadata": {
        "id": "view-in-github",
        "colab_type": "text"
      },
      "source": [
        "<a href=\"https://colab.research.google.com/github/woooribank/-/blob/main/movie.ipynb\" target=\"_parent\"><img src=\"https://colab.research.google.com/assets/colab-badge.svg\" alt=\"Open In Colab\"/></a>"
      ]
    },
    {
      "cell_type": "code",
      "execution_count": 5,
      "metadata": {
        "id": "wx3xdr6-RYTf",
        "colab": {
          "base_uri": "https://localhost:8080/"
        },
        "outputId": "b0b03e91-253f-40b2-8ca4-2cc7bb13f966"
      },
      "outputs": [
        {
          "output_type": "stream",
          "name": "stdout",
          "text": [
            "<?xml version=\"1.0\" encoding=\"utf-8\" standalone=\"yes\"?><boxOfficeResult><boxofficeType>일별 박스오피스</boxofficeType><showRange>20240306~20240306</showRange><dailyBoxOfficeList><dailyBoxOffice><rnum>1</rnum><rank>1</rank><rankInten>0</rankInten><rankOldAndNew>OLD</rankOldAndNew><movieCd>20234675</movieCd><movieNm>파묘</movieNm><openDt>2024-02-22</openDt><salesAmt>1646470458</salesAmt><salesShare>62.7</salesShare><salesInten>-150640462</salesInten><salesChange>-8.4</salesChange><salesAcc>63426202903</salesAcc><audiCnt>174674</audiCnt><audiInten>-15864</audiInten><audiChange>-8.3</audiChange><audiAcc>6606375</audiAcc><scrnCnt>2021</scrnCnt><showCnt>7646</showCnt></dailyBoxOffice><dailyBoxOffice><rnum>2</rnum><rank>2</rank><rankInten>0</rankInten><rankOldAndNew>OLD</rankOldAndNew><movieCd>20236295</movieCd><movieNm>듄: 파트2</movieNm><openDt>2024-02-28</openDt><salesAmt>534434770</salesAmt><salesShare>20.4</salesShare><salesInten>55428524</salesInten><salesChange>11.6</salesChange><salesAcc>10582561576</salesAcc><audiCnt>45582</audiCnt><audiInten>5108</audiInten><audiChange>12.6</audiChange><audiAcc>951042</audiAcc><scrnCnt>990</scrnCnt><showCnt>2658</showCnt></dailyBoxOffice><dailyBoxOffice><rnum>3</rnum><rank>3</rank><rankInten>39</rankInten><rankOldAndNew>OLD</rankOldAndNew><movieCd>20236732</movieCd><movieNm>가여운 것들</movieNm><openDt>2024-03-06</openDt><salesAmt>128182104</salesAmt><salesShare>4.9</salesShare><salesInten>127607804</salesInten><salesChange>22219.7</salesChange><salesAcc>186024709</salesAcc><audiCnt>13536</audiCnt><audiInten>13480</audiInten><audiChange>24071.4</audiChange><audiAcc>18975</audiAcc><scrnCnt>471</scrnCnt><showCnt>838</showCnt></dailyBoxOffice><dailyBoxOffice><rnum>4</rnum><rank>4</rank><rankInten>8</rankInten><rankOldAndNew>OLD</rankOldAndNew><movieCd>20234789</movieCd><movieNm>패스트 라이브즈</movieNm><openDt>2024-03-06</openDt><salesAmt>71103168</salesAmt><salesShare>2.7</salesShare><salesInten>66201968</salesInten><salesChange>1350.7</salesChange><salesAcc>134675834</salesAcc><audiCnt>8376</audiCnt><audiInten>7826</audiInten><audiChange>1422.9</audiChange><audiAcc>15009</audiAcc><scrnCnt>606</scrnCnt><showCnt>1112</showCnt></dailyBoxOffice><dailyBoxOffice><rnum>5</rnum><rank>5</rank><rankInten>-1</rankInten><rankOldAndNew>OLD</rankOldAndNew><movieCd>20236180</movieCd><movieNm>웡카</movieNm><openDt>2024-01-31</openDt><salesAmt>59841799</salesAmt><salesShare>2.3</salesShare><salesInten>-5508882</salesInten><salesChange>-8.4</salesChange><salesAcc>31923652035</salesAcc><audiCnt>6263</audiCnt><audiInten>-634</audiInten><audiChange>-9.2</audiChange><audiAcc>3319943</audiAcc><scrnCnt>530</scrnCnt><showCnt>881</showCnt></dailyBoxOffice><dailyBoxOffice><rnum>6</rnum><rank>6</rank><rankInten>-3</rankInten><rankOldAndNew>OLD</rankOldAndNew><movieCd>20247074</movieCd><movieNm>건국전쟁</movieNm><openDt>2024-02-01</openDt><salesAmt>46281334</salesAmt><salesShare>1.8</salesShare><salesInten>-26185339</salesInten><salesChange>-36.1</salesChange><salesAcc>10374660987</salesAcc><audiCnt>5591</audiCnt><audiInten>-2853</audiInten><audiChange>-33.8</audiChange><audiAcc>1114194</audiAcc><scrnCnt>397</scrnCnt><showCnt>520</showCnt></dailyBoxOffice><dailyBoxOffice><rnum>7</rnum><rank>7</rank><rankInten>-2</rankInten><rankOldAndNew>OLD</rankOldAndNew><movieCd>20247076</movieCd><movieNm>귀멸의 칼날: 인연의 기적, 그리고 합동 강화 훈련으로</movieNm><openDt>2024-02-14</openDt><salesAmt>28977400</salesAmt><salesShare>1.1</salesShare><salesInten>5137800</salesInten><salesChange>21.6</salesChange><salesAcc>5302024000</salesAcc><audiCnt>3021</audiCnt><audiInten>658</audiInten><audiChange>27.8</audiChange><audiAcc>466199</audiAcc><scrnCnt>174</scrnCnt><showCnt>268</showCnt></dailyBoxOffice><dailyBoxOffice><rnum>8</rnum><rank>8</rank><rankInten>0</rankInten><rankOldAndNew>NEW</rankOldAndNew><movieCd>19970037</movieCd><movieNm>비트</movieNm><openDt>1997-05-03</openDt><salesAmt>19639500</salesAmt><salesShare>0.7</salesShare><salesInten>19639500</salesInten><salesChange>100</salesChange><salesAcc>29306600</salesAcc><audiCnt>2745</audiCnt><audiInten>2745</audiInten><audiChange>100</audiChange><audiAcc>4306</audiAcc><scrnCnt>71</scrnCnt><showCnt>154</showCnt></dailyBoxOffice><dailyBoxOffice><rnum>9</rnum><rank>9</rank><rankInten>0</rankInten><rankOldAndNew>NEW</rankOldAndNew><movieCd>20230614</movieCd><movieNm>대결! 애니메이션</movieNm><openDt>2024-03-06</openDt><salesAmt>13590263</salesAmt><salesShare>0.5</salesShare><salesInten>13590263</salesInten><salesChange>100</salesChange><salesAcc>30566263</salesAcc><audiCnt>2122</audiCnt><audiInten>2122</audiInten><audiChange>100</audiChange><audiAcc>4244</audiAcc><scrnCnt>103</scrnCnt><showCnt>170</showCnt></dailyBoxOffice><dailyBoxOffice><rnum>10</rnum><rank>10</rank><rankInten>-3</rankInten><rankOldAndNew>OLD</rankOldAndNew><movieCd>20231415</movieCd><movieNm>소풍</movieNm><openDt>2024-02-07</openDt><salesAmt>10707600</salesAmt><salesShare>0.4</salesShare><salesInten>-2721900</salesInten><salesChange>-20.3</salesChange><salesAcc>2931893449</salesAcc><audiCnt>1274</audiCnt><audiInten>-278</audiInten><audiChange>-17.9</audiChange><audiAcc>327321</audiAcc><scrnCnt>87</scrnCnt><showCnt>96</showCnt></dailyBoxOffice></dailyBoxOfficeList></boxOfficeResult>\n"
          ]
        }
      ],
      "source": [
        "import requests\n",
        "from bs4 import BeautifulSoup\n",
        "\n",
        "r = requests.get('http://www.kobis.or.kr/kobisopenapi/webservice/rest/boxoffice/searchDailyBoxOfficeList.xml?key=17d69bb88d295b9730cdfb4e5af0a2c4&targetDt=20240306&weekGb=0&itemPerPage=10')\n",
        "print(r.text)"
      ]
    },
    {
      "cell_type": "code",
      "source": [
        "soup = BeautifulSoup(r.text, features=\"xml\")"
      ],
      "metadata": {
        "id": "Aj1EFMy4SE2k"
      },
      "execution_count": 6,
      "outputs": []
    },
    {
      "cell_type": "code",
      "source": [
        "soup.find_all('movieNm')"
      ],
      "metadata": {
        "id": "Yya3xvUfSFOk",
        "colab": {
          "base_uri": "https://localhost:8080/"
        },
        "outputId": "a3b897dd-7065-49b6-b6ae-f25c7249873b"
      },
      "execution_count": 7,
      "outputs": [
        {
          "output_type": "execute_result",
          "data": {
            "text/plain": [
              "[<movieNm>파묘</movieNm>,\n",
              " <movieNm>듄: 파트2</movieNm>,\n",
              " <movieNm>가여운 것들</movieNm>,\n",
              " <movieNm>패스트 라이브즈</movieNm>,\n",
              " <movieNm>웡카</movieNm>,\n",
              " <movieNm>건국전쟁</movieNm>,\n",
              " <movieNm>귀멸의 칼날: 인연의 기적, 그리고 합동 강화 훈련으로</movieNm>,\n",
              " <movieNm>비트</movieNm>,\n",
              " <movieNm>대결! 애니메이션</movieNm>,\n",
              " <movieNm>소풍</movieNm>]"
            ]
          },
          "metadata": {},
          "execution_count": 7
        }
      ]
    },
    {
      "cell_type": "code",
      "source": [
        "soup.find_all('audiCnt')"
      ],
      "metadata": {
        "colab": {
          "base_uri": "https://localhost:8080/"
        },
        "id": "q-DIqKYOnrno",
        "outputId": "f0de2b55-4aff-47ce-e12c-e11c4b390725"
      },
      "execution_count": 8,
      "outputs": [
        {
          "output_type": "execute_result",
          "data": {
            "text/plain": [
              "[<audiCnt>174674</audiCnt>,\n",
              " <audiCnt>45582</audiCnt>,\n",
              " <audiCnt>13536</audiCnt>,\n",
              " <audiCnt>8376</audiCnt>,\n",
              " <audiCnt>6263</audiCnt>,\n",
              " <audiCnt>5591</audiCnt>,\n",
              " <audiCnt>3021</audiCnt>,\n",
              " <audiCnt>2745</audiCnt>,\n",
              " <audiCnt>2122</audiCnt>,\n",
              " <audiCnt>1274</audiCnt>]"
            ]
          },
          "metadata": {},
          "execution_count": 8
        }
      ]
    }
  ]
}