{
  "nbformat": 4,
  "nbformat_minor": 0,
  "metadata": {
    "colab": {
      "provenance": [],
      "authorship_tag": "ABX9TyPaib2SUmlaZ06w2avgGIqP",
      "include_colab_link": true
    },
    "kernelspec": {
      "name": "python3",
      "display_name": "Python 3"
    },
    "language_info": {
      "name": "python"
    }
  },
  "cells": [
    {
      "cell_type": "markdown",
      "metadata": {
        "id": "view-in-github",
        "colab_type": "text"
      },
      "source": [
        "<a href=\"https://colab.research.google.com/github/woooribank/-/blob/main/mqtt_thingspeak.ipynb\" target=\"_parent\"><img src=\"https://colab.research.google.com/assets/colab-badge.svg\" alt=\"Open In Colab\"/></a>"
      ]
    },
    {
      "cell_type": "code",
      "execution_count": 1,
      "metadata": {
        "colab": {
          "base_uri": "https://localhost:8080/"
        },
        "id": "rpGMxb_1YcB0",
        "outputId": "1c33c087-73eb-4534-ea7e-1a78eb41a626"
      },
      "outputs": [
        {
          "output_type": "stream",
          "name": "stdout",
          "text": [
            "Collecting paho-mqtt\n",
            "  Downloading paho_mqtt-2.0.0-py3-none-any.whl (66 kB)\n",
            "\u001b[2K     \u001b[90m━━━━━━━━━━━━━━━━━━━━━━━━━━━━━━━━━━━━━━━━\u001b[0m \u001b[32m66.9/66.9 kB\u001b[0m \u001b[31m937.2 kB/s\u001b[0m eta \u001b[36m0:00:00\u001b[0m\n",
            "\u001b[?25hInstalling collected packages: paho-mqtt\n",
            "Successfully installed paho-mqtt-2.0.0\n"
          ]
        }
      ],
      "source": [
        "!pip install paho-mqtt"
      ]
    },
    {
      "cell_type": "code",
      "source": [
        "import json\n",
        "import requests\n",
        "n=0\n",
        "\n",
        "def doit(topic, payload):\n",
        "  global n\n",
        "  print(topic, payload)\n",
        "  j=json.loads(payload)\n",
        "  #print(j['co2'])\n",
        "  url='https://api.thingspeak.com/update?api_key=MBXHFKNOS3NTXOGA'\n",
        "  url +='&field1='+j['co2']\n",
        "  url +='&field2='+j['bme680'].split(',')[0]\n",
        "  if n>15:\n",
        "    r=requests.get(url)\n",
        "    print(url, r.text)\n",
        "    n=0\n",
        "  n+=1"
      ],
      "metadata": {
        "id": "2kSU96qOYoOF"
      },
      "execution_count": 2,
      "outputs": []
    },
    {
      "cell_type": "code",
      "source": [
        "import paho.mqtt.client as mqtt\n",
        "\n",
        "def on_connect(client, userdata, flags, reason_code, properties):\n",
        "    print(f\"Connected with result code {reason_code}\")\n",
        "    client.subscribe(\"connectware/indoor/data/1501\")\n",
        "\n",
        "def on_message(client, userdata, msg):\n",
        "    doit(msg.topic, msg.payload.decode('utf8'))\n",
        "\n",
        "client = mqtt.Client(mqtt.CallbackAPIVersion.VERSION2)\n",
        "client.on_connect = on_connect\n",
        "client.on_message = on_message\n",
        "\n",
        "client.connect(\"damoa.io\", 1883, 60)\n",
        "client.loop_forever()"
      ],
      "metadata": {
        "colab": {
          "base_uri": "https://localhost:8080/"
        },
        "id": "YiRjyhZ1YwcF",
        "outputId": "3c13590c-54a7-4ac6-9e63-ba34bc1c1b7d"
      },
      "execution_count": null,
      "outputs": [
        {
          "output_type": "stream",
          "name": "stdout",
          "text": [
            "Connected with result code Success\n"
          ]
        }
      ]
    }
  ]
}