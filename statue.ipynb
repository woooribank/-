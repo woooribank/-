{
  "nbformat": 4,
  "nbformat_minor": 0,
  "metadata": {
    "colab": {
      "provenance": [],
      "authorship_tag": "ABX9TyNMZTa13F+XF3ehaDE5/S9B",
      "include_colab_link": true
    },
    "kernelspec": {
      "name": "python3",
      "display_name": "Python 3"
    },
    "language_info": {
      "name": "python"
    }
  },
  "cells": [
    {
      "cell_type": "markdown",
      "metadata": {
        "id": "view-in-github",
        "colab_type": "text"
      },
      "source": [
        "<a href=\"https://colab.research.google.com/github/woooribank/-/blob/main/statue.ipynb\" target=\"_parent\"><img src=\"https://colab.research.google.com/assets/colab-badge.svg\" alt=\"Open In Colab\"/></a>"
      ]
    },
    {
      "cell_type": "code",
      "execution_count": 20,
      "metadata": {
        "colab": {
          "base_uri": "https://localhost:8080/"
        },
        "id": "jh29fu1-ErJ2",
        "outputId": "2a09cb7b-0257-42e1-e4ac-7ec6f03db2e1"
      },
      "outputs": [
        {
          "output_type": "stream",
          "name": "stdout",
          "text": [
            "<?xml version=\"1.0\" encoding=\"UTF-8\"?>\n",
            "<gongGongArtStatue>\n",
            "<list_total_count>52</list_total_count>\n",
            "<RESULT>\n",
            "<CODE>INFO-000</CODE>\n",
            "<MESSAGE>정상 처리되었습니다</MESSAGE>\n",
            "</RESULT>\n",
            "<row>\n",
            "<GA_KNAME>접어 만든 사자와 아이</GA_KNAME>\n",
            "<GA_INS_DATE>2022</GA_INS_DATE>\n",
            "<CODE_N1_NAME>서울시</CODE_N1_NAME>\n",
            "<CODE_N2_NAME>서울대공원</CODE_N2_NAME>\n",
            "<CODE_N3_NAME>전략기획실</CODE_N3_NAME>\n",
            "<GA_ADDR1>경기도 과천시 대공원광장로 102</GA_ADDR1>\n",
            "<GA_ADDR2>만남의다리</GA_ADDR2>\n",
            "<GA_DETAIL>사자와 아이가 한 곳을 바라보는 형태로 ‘동행’가치 전달</GA_DETAIL>\n",
            "<CODE_A1>동상</CODE_A1>\n",
            "</row>\n",
            "<row>\n",
            "<GA_KNAME>나들이</GA_KNAME>\n",
            "<GA_INS_DATE>2022</GA_INS_DATE>\n",
            "<CODE_N1_NAME>서울시</CODE_N1_NAME>\n",
            "<CODE_N2_NAME>서울대공원</CODE_N2_NAME>\n",
            "<CODE_N3_NAME>전략기획실</CODE_N3_NAME>\n",
            "<GA_ADDR1>경기도 과천시 대공원광장로 102</GA_ADDR1>\n",
            "<GA_ADDR2>만남의다리</GA_ADDR2>\n",
            "<GA_DETAIL>발걸음 가볍게, 대공원으로 소풍 가는 설렘 표현</GA_DETAIL>\n",
            "<CODE_A1>동상</CODE_A1>\n",
            "</row>\n",
            "<row>\n",
            "<GA_KNAME>유관순열사 동상</GA_KNAME>\n",
            "<GA_INS_DATE>2021</GA_INS_DATE>\n",
            "<CODE_N1_NAME>자치구</CODE_N1_NAME>\n",
            "<CODE_N2_NAME>서대문구</CODE_N2_NAME>\n",
            "<CODE_N3_NAME>푸른도시과</CODE_N3_NAME>\n",
            "<GA_ADDR1>서울특별시 서대문구 통일로 251</GA_ADDR1>\n",
            "<GA_ADDR2>(현저동 101)서대문독립공원</GA_ADDR2>\n",
            "<GA_DETAIL>제작배경&#13;\n",
            "  - 서대문형무소에서 순국한 유관순열사의 순국100주년을 기념. &#13;\n",
            "  - 공원을 찾는 시민들에게 순국선열의 정신을 계승하고자 함.&#13;\n",
            "작품소개 &#13;\n",
            "  - 조국의 독립의지를 염원하는 열사의 고뇌와 독립쟁취를 향한 &#13;\n",
            "    민족의 결의 표현 (맨발과 움켜진 손, 그리고 부릅뜬 두 눈)&#13;\n",
            "  - 유관순열사의 독립의 바람과 3.1 운동의 급박했던 모습을 표현&#13;\n",
            "    (그날의 바람결을 옷고름과 치마저고리의 거친 주름으로 동적 표현)</GA_DETAIL>\n",
            "<CODE_A1>동상</CODE_A1>\n",
            "</row>\n",
            "<row>\n",
            "<GA_KNAME>어느청년노동자상</GA_KNAME>\n",
            "<GA_INS_DATE>2020</GA_INS_DATE>\n",
            "<CODE_N1_NAME>서울시</CODE_N1_NAME>\n",
            "<CODE_N2_NAME>노동공정상생정책관</CODE_N2_NAME>\n",
            "<CODE_N3_NAME>노동정책담당관</CODE_N3_NAME>\n",
            "<GA_ADDR1>서울특별시 종로구 청계천로 105</GA_ADDR1>\n",
            "<GA_ADDR2>전태일기념관 전면 외벽</GA_ADDR2>\n",
            "<GA_DETAIL>-전면 파사드와 조화를 이루면서 기념관의 새로운 상징물로 자리매김.&#13;\n",
            " 기념관 벽 속에서 미래로 걸어 나오는 형태의 환조(고부조)이며 과거의  &#13;\n",
            " 전태일을 넘어 미래를 지향한다는 개념.&#13;\n",
            " &#13;\n",
            "-한 손은 근로기준법을 들고, 다른 손은 “풀빵신화”에서 유추한 “따뜻한 손”&#13;\n",
            " (온열기능을 삽입한)으로 제작하여 따뜻한 전태일의 정신을 느끼게 함. &#13;\n",
            "&#13;\n",
            "-&lt;어느 청년노동자 상&gt;은 근로기준법해설서를 들고 분신하신 1970년 11&#13;\n",
            " 월 13일로부터 21년이 지난 1991년에 비로소 ‘전태일’의 이름을 찾을 수&#13;\n",
            " 있었던  사실에서 기인한다. 이 땅의 모든 노동자들이 전태일이고 전태일이 &#13;\n",
            " 곧 모든 젊은 청년노동자들의 삶과 함께하고자 하는 마음으로 자리매김하고&#13;\n",
            " 자 한다.</GA_DETAIL>\n",
            "<CODE_A1>동상</CODE_A1>\n",
            "</row>\n",
            "<row>\n",
            "<GA_KNAME>윤관동상</GA_KNAME>\n",
            "<GA_INS_DATE>2019</GA_INS_DATE>\n",
            "<CODE_N1_NAME>자치구</CODE_N1_NAME>\n",
            "<CODE_N2_NAME>중구</CODE_N2_NAME>\n",
            "<CODE_N3_NAME>공원녹지과</CODE_N3_NAME>\n",
            "<GA_ADDR1>서울시 중구 을지로 227</GA_ADDR1>\n",
            "<GA_ADDR2>훈련원근린공원 내</GA_ADDR2>\n",
            "<GA_DETAIL>문숙공 윤관 대원수는 문무겸전의 척지진국공신으로 여진족의 침략을 맞아 국권을 지키고 국토를 넓힌 공신임. 문숙공의 호국정신과 애국충정을 국민들에게 널리 알리고자 건립함.</GA_DETAIL>\n",
            "<CODE_A1>동상</CODE_A1>\n",
            "</row>\n",
            "</gongGongArtStatue>\n",
            "\n"
          ]
        }
      ],
      "source": [
        "import requests\n",
        "url='http://openapi.seoul.go.kr:8088/637061707565686a38364a4e546a6b/xml/gongGongArtStatue/1/5/'\n",
        "r = requests.get(url)\n",
        "print(r.text)"
      ]
    },
    {
      "cell_type": "code",
      "source": [
        "from bs4 import BeautifulSoup\n",
        "\n",
        "soup = BeautifulSoup(r.text, features=\"xml\")"
      ],
      "metadata": {
        "id": "LycFE9kOE57l"
      },
      "execution_count": 21,
      "outputs": []
    },
    {
      "cell_type": "code",
      "source": [
        "soup.find_all('GA_KNAME')"
      ],
      "metadata": {
        "colab": {
          "base_uri": "https://localhost:8080/"
        },
        "id": "4v012hYJFMs2",
        "outputId": "2986fc7f-881e-4751-fc5e-e8b48bc62a5d"
      },
      "execution_count": 22,
      "outputs": [
        {
          "output_type": "execute_result",
          "data": {
            "text/plain": [
              "[<GA_KNAME>접어 만든 사자와 아이</GA_KNAME>,\n",
              " <GA_KNAME>나들이</GA_KNAME>,\n",
              " <GA_KNAME>유관순열사 동상</GA_KNAME>,\n",
              " <GA_KNAME>어느청년노동자상</GA_KNAME>,\n",
              " <GA_KNAME>윤관동상</GA_KNAME>]"
            ]
          },
          "metadata": {},
          "execution_count": 22
        }
      ]
    }
  ]
}